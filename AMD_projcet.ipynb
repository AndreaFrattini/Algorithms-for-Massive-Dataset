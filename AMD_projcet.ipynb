{
 "cells": [
  {
   "cell_type": "markdown",
   "id": "d0f0d444",
   "metadata": {},
   "source": [
    "# Market basket analysis: IMDb Dataset"
   ]
  },
  {
   "cell_type": "markdown",
   "id": "f652ea1d",
   "metadata": {},
   "source": [
    "#### Casati Martina (942413)\n",
    "#### Frattini Andrea (959213) \n",
    "#### Lo Vecchio Gianluca (961536)\n",
    "##### DSE(2020-2021)"
   ]
  },
  {
   "cell_type": "markdown",
   "id": "fa35b39d",
   "metadata": {},
   "source": [
    "## Download the dataset through Kaggle API"
   ]
  },
  {
   "cell_type": "code",
   "execution_count": 1,
   "id": "e2f14825",
   "metadata": {},
   "outputs": [
    {
     "name": "stdout",
     "output_type": "stream",
     "text": [
      "Collecting kaggle\n",
      "  Downloading kaggle-1.5.12.tar.gz (58 kB)\n",
      "\u001b[K     |████████████████████████████████| 58 kB 3.9 MB/s  eta 0:00:01\n",
      "\u001b[?25hRequirement already satisfied: six>=1.10 in /opt/conda/lib/python3.7/site-packages (from kaggle) (1.16.0)\n",
      "Requirement already satisfied: certifi in /opt/conda/lib/python3.7/site-packages (from kaggle) (2021.5.30)\n",
      "Requirement already satisfied: python-dateutil in /opt/conda/lib/python3.7/site-packages (from kaggle) (2.8.1)\n",
      "Requirement already satisfied: requests in /opt/conda/lib/python3.7/site-packages (from kaggle) (2.25.1)\n",
      "Requirement already satisfied: tqdm in /opt/conda/lib/python3.7/site-packages (from kaggle) (4.61.1)\n",
      "Requirement already satisfied: python-slugify in /opt/conda/lib/python3.7/site-packages (from kaggle) (5.0.2)\n",
      "Requirement already satisfied: urllib3 in /opt/conda/lib/python3.7/site-packages (from kaggle) (1.26.5)\n",
      "Requirement already satisfied: text-unidecode>=1.3 in /opt/conda/lib/python3.7/site-packages (from python-slugify->kaggle) (1.3)\n",
      "Requirement already satisfied: idna<3,>=2.5 in /opt/conda/lib/python3.7/site-packages (from requests->kaggle) (2.10)\n",
      "Requirement already satisfied: chardet<5,>=3.0.2 in /opt/conda/lib/python3.7/site-packages (from requests->kaggle) (4.0.0)\n",
      "Building wheels for collected packages: kaggle\n",
      "  Building wheel for kaggle (setup.py) ... \u001b[?25ldone\n",
      "\u001b[?25h  Created wheel for kaggle: filename=kaggle-1.5.12-py3-none-any.whl size=73053 sha256=50ce034bcac2675bf1d40d58aabdfa0de31f98b2d8b9f767a7089e7d2f4ac75c\n",
      "  Stored in directory: /home/jupyter/.cache/pip/wheels/62/d6/58/5853130f941e75b2177d281eb7e44b4a98ed46dd155f556dc5\n",
      "Successfully built kaggle\n",
      "Installing collected packages: kaggle\n",
      "Successfully installed kaggle-1.5.12\n"
     ]
    }
   ],
   "source": [
    "!pip install kaggle"
   ]
  },
  {
   "cell_type": "code",
   "execution_count": 2,
   "id": "14cc48ab",
   "metadata": {},
   "outputs": [],
   "source": [
    "!mkdir ~/.kaggle"
   ]
  },
  {
   "cell_type": "code",
   "execution_count": 3,
   "id": "b3a37325",
   "metadata": {},
   "outputs": [],
   "source": [
    "!cp ~/Download/kaggle.json ~/.kaggle/kaggle.json"
   ]
  },
  {
   "cell_type": "code",
   "execution_count": 4,
   "id": "db937a61",
   "metadata": {},
   "outputs": [
    {
     "name": "stdout",
     "output_type": "stream",
     "text": [
      "Warning: Your Kaggle API key is readable by other users on this system! To fix this, you can run 'chmod 600 /home/jupyter/.kaggle/kaggle.json'\n",
      "Downloading imdb-dataset.zip to /home/jupyter\n",
      " 99%|██████████████████████████████████████▌| 1.42G/1.44G [00:04<00:00, 377MB/s]\n",
      "100%|███████████████████████████████████████| 1.44G/1.44G [00:05<00:00, 308MB/s]\n"
     ]
    }
   ],
   "source": [
    "!kaggle datasets download -d 'ashirwadsangwan/imdb-dataset'"
   ]
  },
  {
   "cell_type": "code",
   "execution_count": 5,
   "id": "85d99d04",
   "metadata": {},
   "outputs": [
    {
     "name": "stdout",
     "output_type": "stream",
     "text": [
      "Archive:  imdb-dataset.zip\n",
      "  inflating: name.basics.tsv.gz      \n",
      "  inflating: name.basics.tsv/name.basics.tsv  \n",
      "  inflating: title.akas.tsv.gz       \n",
      "  inflating: title.akas.tsv/title.akas.tsv  \n",
      "  inflating: title.basics.tsv.gz     \n",
      "  inflating: title.basics.tsv/title.basics.tsv  \n",
      "  inflating: title.principals.tsv.gz  \n",
      "  inflating: title.principals.tsv/title.principals.tsv  \n",
      "  inflating: title.ratings.tsv.gz    \n",
      "  inflating: title.ratings.tsv/title.ratings.tsv  \n"
     ]
    }
   ],
   "source": [
    "!unzip \\*.zip && rm *.zip"
   ]
  },
  {
   "cell_type": "markdown",
   "id": "e0fa0548",
   "metadata": {},
   "source": [
    "## Setting up the Jupyter Notebook environment for the VM of Google Cloud Platform"
   ]
  },
  {
   "cell_type": "code",
   "execution_count": 1,
   "id": "1afb9a5b",
   "metadata": {
    "execution": {
     "iopub.execute_input": "2021-07-06T16:27:02.126718Z",
     "iopub.status.busy": "2021-07-06T16:27:02.126158Z",
     "iopub.status.idle": "2021-07-06T16:27:17.830564Z",
     "shell.execute_reply": "2021-07-06T16:27:17.829526Z",
     "shell.execute_reply.started": "2021-07-06T16:27:02.126628Z"
    }
   },
   "outputs": [
    {
     "name": "stdout",
     "output_type": "stream",
     "text": [
      "Requirement already satisfied: pyspark in /opt/conda/lib/python3.7/site-packages (3.1.2)\n",
      "Requirement already satisfied: py4j==0.10.9 in /opt/conda/lib/python3.7/site-packages (from pyspark) (0.10.9)\n"
     ]
    }
   ],
   "source": [
    "!pip install pyspark\n",
    "import pyspark\n",
    "from pyspark import SparkContext\n",
    "sc = pyspark.SparkContext('local[*]')\n",
    "from pyspark.sql import SparkSession\n",
    "from pyspark.sql.functions import collect_set, col, count\n",
    "spark = SparkSession.builder.appName(\"Market Basekt Analysis\").getOrCreate()\n",
    "\n",
    "import itertools\n",
    "\n",
    "import pandas as pd\n",
    "\n",
    "import time\n",
    "\n",
    "import matplotlib.pyplot as plt"
   ]
  },
  {
   "cell_type": "markdown",
   "id": "b5aa0a3d",
   "metadata": {},
   "source": [
    "## Loading the datasets"
   ]
  },
  {
   "cell_type": "markdown",
   "id": "a99bb851",
   "metadata": {},
   "source": [
    "First we import the tables of interest assigning to them intuitive labels. Secondly we show the first 10 rows of each one to understand how they are structured."
   ]
  },
  {
   "cell_type": "code",
   "execution_count": 2,
   "id": "24b8c2a4",
   "metadata": {
    "execution": {
     "iopub.execute_input": "2021-07-06T16:27:18.847625Z",
     "iopub.status.busy": "2021-07-06T16:27:18.847243Z",
     "iopub.status.idle": "2021-07-06T16:27:23.833408Z",
     "shell.execute_reply": "2021-07-06T16:27:23.832591Z",
     "shell.execute_reply.started": "2021-07-06T16:27:18.847546Z"
    }
   },
   "outputs": [],
   "source": [
    "FilmTitle = spark.read.csv(\"title.basics.tsv\", sep=r'\\t', header=True)\n",
    "Job = spark.read.csv(\"title.principals.tsv\", sep=r'\\t', header=True)\n",
    "NamesCast = spark.read.csv(\"name.basics.tsv\", sep=r'\\t', header=True)"
   ]
  },
  {
   "cell_type": "code",
   "execution_count": 3,
   "id": "9af380c8",
   "metadata": {
    "execution": {
     "iopub.execute_input": "2021-07-03T16:11:55.047477Z",
     "iopub.status.busy": "2021-07-03T16:11:55.047104Z",
     "iopub.status.idle": "2021-07-03T16:11:55.282446Z",
     "shell.execute_reply": "2021-07-03T16:11:55.281207Z",
     "shell.execute_reply.started": "2021-07-03T16:11:55.047447Z"
    }
   },
   "outputs": [
    {
     "name": "stdout",
     "output_type": "stream",
     "text": [
      "+---------+---------+--------------------+--------------------+-------+---------+-------+--------------+--------------------+\n",
      "|   tconst|titleType|        primaryTitle|       originalTitle|isAdult|startYear|endYear|runtimeMinutes|              genres|\n",
      "+---------+---------+--------------------+--------------------+-------+---------+-------+--------------+--------------------+\n",
      "|tt0000001|    short|          Carmencita|          Carmencita|      0|     1894|     \\N|             1|   Documentary,Short|\n",
      "|tt0000002|    short|Le clown et ses c...|Le clown et ses c...|      0|     1892|     \\N|             5|     Animation,Short|\n",
      "|tt0000003|    short|      Pauvre Pierrot|      Pauvre Pierrot|      0|     1892|     \\N|             4|Animation,Comedy,...|\n",
      "|tt0000004|    short|         Un bon bock|         Un bon bock|      0|     1892|     \\N|            \\N|     Animation,Short|\n",
      "|tt0000005|    short|    Blacksmith Scene|    Blacksmith Scene|      0|     1893|     \\N|             1|        Comedy,Short|\n",
      "|tt0000006|    short|   Chinese Opium Den|   Chinese Opium Den|      0|     1894|     \\N|             1|               Short|\n",
      "|tt0000007|    short|Corbett and Court...|Corbett and Court...|      0|     1894|     \\N|             1|         Short,Sport|\n",
      "|tt0000008|    short|Edison Kinetoscop...|Edison Kinetoscop...|      0|     1894|     \\N|             1|   Documentary,Short|\n",
      "|tt0000009|    movie|          Miss Jerry|          Miss Jerry|      0|     1894|     \\N|            45|             Romance|\n",
      "|tt0000010|    short| Exiting the Factory|La sortie de l'us...|      0|     1895|     \\N|             1|   Documentary,Short|\n",
      "+---------+---------+--------------------+--------------------+-------+---------+-------+--------------+--------------------+\n",
      "only showing top 10 rows\n",
      "\n"
     ]
    }
   ],
   "source": [
    "FilmTitle.show(10)"
   ]
  },
  {
   "cell_type": "code",
   "execution_count": 4,
   "id": "5e554749",
   "metadata": {
    "execution": {
     "iopub.execute_input": "2021-07-03T16:11:59.462189Z",
     "iopub.status.busy": "2021-07-03T16:11:59.461721Z",
     "iopub.status.idle": "2021-07-03T16:11:59.610076Z",
     "shell.execute_reply": "2021-07-03T16:11:59.609049Z",
     "shell.execute_reply.started": "2021-07-03T16:11:59.462136Z"
    }
   },
   "outputs": [
    {
     "name": "stdout",
     "output_type": "stream",
     "text": [
      "+---------+--------+---------+---------------+--------------------+-----------+\n",
      "|   tconst|ordering|   nconst|       category|                 job| characters|\n",
      "+---------+--------+---------+---------------+--------------------+-----------+\n",
      "|tt0000001|       1|nm1588970|           self|                  \\N|[\"Herself\"]|\n",
      "|tt0000001|       2|nm0005690|       director|                  \\N|         \\N|\n",
      "|tt0000001|       3|nm0374658|cinematographer|director of photo...|         \\N|\n",
      "|tt0000002|       1|nm0721526|       director|                  \\N|         \\N|\n",
      "|tt0000002|       2|nm1335271|       composer|                  \\N|         \\N|\n",
      "|tt0000003|       1|nm0721526|       director|                  \\N|         \\N|\n",
      "|tt0000003|       2|nm5442194|       producer|            producer|         \\N|\n",
      "|tt0000003|       3|nm1335271|       composer|                  \\N|         \\N|\n",
      "|tt0000003|       4|nm5442200|         editor|                  \\N|         \\N|\n",
      "|tt0000004|       1|nm0721526|       director|                  \\N|         \\N|\n",
      "+---------+--------+---------+---------------+--------------------+-----------+\n",
      "only showing top 10 rows\n",
      "\n"
     ]
    }
   ],
   "source": [
    "Job.show(10)"
   ]
  },
  {
   "cell_type": "code",
   "execution_count": 5,
   "id": "cac1c1f0",
   "metadata": {
    "execution": {
     "iopub.execute_input": "2021-07-03T16:12:02.226755Z",
     "iopub.status.busy": "2021-07-03T16:12:02.226393Z",
     "iopub.status.idle": "2021-07-03T16:12:02.352522Z",
     "shell.execute_reply": "2021-07-03T16:12:02.350655Z",
     "shell.execute_reply.started": "2021-07-03T16:12:02.226726Z"
    }
   },
   "outputs": [
    {
     "name": "stdout",
     "output_type": "stream",
     "text": [
      "+---------+---------------+---------+---------+--------------------+--------------------+\n",
      "|   nconst|    primaryName|birthYear|deathYear|   primaryProfession|      knownForTitles|\n",
      "+---------+---------------+---------+---------+--------------------+--------------------+\n",
      "|nm0000001|   Fred Astaire|     1899|     1987|soundtrack,actor,...|tt0050419,tt00531...|\n",
      "|nm0000002|  Lauren Bacall|     1924|     2014|  actress,soundtrack|tt0071877,tt01170...|\n",
      "|nm0000003|Brigitte Bardot|     1934|       \\N|actress,soundtrac...|tt0054452,tt00491...|\n",
      "|nm0000004|   John Belushi|     1949|     1982|actor,writer,soun...|tt0077975,tt00725...|\n",
      "|nm0000005| Ingmar Bergman|     1918|     2007|writer,director,a...|tt0069467,tt00509...|\n",
      "|nm0000006| Ingrid Bergman|     1915|     1982|actress,soundtrac...|tt0038109,tt00368...|\n",
      "|nm0000007|Humphrey Bogart|     1899|     1957|actor,soundtrack,...|tt0043265,tt00338...|\n",
      "|nm0000008|  Marlon Brando|     1924|     2004|actor,soundtrack,...|tt0070849,tt00787...|\n",
      "|nm0000009| Richard Burton|     1925|     1984|actor,producer,so...|tt0057877,tt00878...|\n",
      "|nm0000010|   James Cagney|     1899|     1986|actor,soundtrack,...|tt0035575,tt00318...|\n",
      "+---------+---------------+---------+---------+--------------------+--------------------+\n",
      "only showing top 10 rows\n",
      "\n"
     ]
    }
   ],
   "source": [
    "NamesCast.show(10)"
   ]
  },
  {
   "cell_type": "markdown",
   "id": "57f2b231",
   "metadata": {},
   "source": [
    "## PreProcessing"
   ]
  },
  {
   "cell_type": "markdown",
   "id": "fb748ea6",
   "metadata": {},
   "source": [
    "First we set the Spark SQL environment "
   ]
  },
  {
   "cell_type": "code",
   "execution_count": 3,
   "id": "52c71f8f",
   "metadata": {
    "execution": {
     "iopub.execute_input": "2021-07-06T16:27:30.491805Z",
     "iopub.status.busy": "2021-07-06T16:27:30.491416Z",
     "iopub.status.idle": "2021-07-06T16:27:30.680541Z",
     "shell.execute_reply": "2021-07-06T16:27:30.679482Z",
     "shell.execute_reply.started": "2021-07-06T16:27:30.491771Z"
    }
   },
   "outputs": [],
   "source": [
    "FilmTitle.createOrReplaceTempView(\"FilmTitle\")\n",
    "Job.createOrReplaceTempView(\"Job\")"
   ]
  },
  {
   "cell_type": "markdown",
   "id": "329bff36",
   "metadata": {},
   "source": [
    "Secondly, since we need to consider actors and actresses as items, we extrapolate them from the \"Job\" table"
   ]
  },
  {
   "cell_type": "code",
   "execution_count": 5,
   "id": "7725a6a6",
   "metadata": {
    "execution": {
     "iopub.execute_input": "2021-07-06T16:29:32.180726Z",
     "iopub.status.busy": "2021-07-06T16:29:32.180473Z",
     "iopub.status.idle": "2021-07-06T16:29:32.340883Z",
     "shell.execute_reply": "2021-07-06T16:29:32.339881Z",
     "shell.execute_reply.started": "2021-07-06T16:29:32.180700Z"
    }
   },
   "outputs": [
    {
     "name": "stdout",
     "output_type": "stream",
     "text": [
      "+---------+--------+---------+--------+---+--------------------+\n",
      "|   tconst|ordering|   nconst|category|job|          characters|\n",
      "+---------+--------+---------+--------+---+--------------------+\n",
      "|tt0000005|       1|nm0443482|   actor| \\N|      [\"Blacksmith\"]|\n",
      "|tt0000005|       2|nm0653042|   actor| \\N|       [\"Assistant\"]|\n",
      "|tt0000007|       1|nm0179163|   actor| \\N|                  \\N|\n",
      "|tt0000007|       2|nm0183947|   actor| \\N|                  \\N|\n",
      "|tt0000008|       1|nm0653028|   actor| \\N|    [\"Sneezing Man\"]|\n",
      "|tt0000009|       1|nm0063086| actress| \\N|[\"Miss Geraldine ...|\n",
      "|tt0000009|       2|nm0183823|   actor| \\N|    [\"Mr. Hamilton\"]|\n",
      "|tt0000009|       3|nm1309758|   actor| \\N|[\"Chauncey Depew ...|\n",
      "|tt0000011|       1|nm3692297|   actor| \\N|        [\"Acrobats\"]|\n",
      "|tt0000014|       1|nm0166380|   actor| \\N|    [\"The Gardener\"]|\n",
      "+---------+--------+---------+--------+---+--------------------+\n",
      "only showing top 10 rows\n",
      "\n"
     ]
    }
   ],
   "source": [
    "actors =  \"\"\" SELECT *\n",
    "              FROM Job\n",
    "              WHERE (category = 'actor') OR (category = 'actress')\n",
    "\"\"\"\n",
    "actors = spark.sql(actors)\n",
    "actors.show(10)"
   ]
  },
  {
   "cell_type": "markdown",
   "id": "3f679fbd",
   "metadata": {},
   "source": [
    "And then we extrapolate the movies from the table \"FilmTitle\", since we need to use them as baskets"
   ]
  },
  {
   "cell_type": "code",
   "execution_count": 6,
   "id": "d3a28fd6",
   "metadata": {
    "execution": {
     "iopub.execute_input": "2021-07-06T16:29:32.342787Z",
     "iopub.status.busy": "2021-07-06T16:29:32.342425Z",
     "iopub.status.idle": "2021-07-06T16:29:32.513729Z",
     "shell.execute_reply": "2021-07-06T16:29:32.512497Z",
     "shell.execute_reply.started": "2021-07-06T16:29:32.342747Z"
    }
   },
   "outputs": [
    {
     "name": "stdout",
     "output_type": "stream",
     "text": [
      "+---------+---------+--------------------+--------------------+-------+---------+-------+--------------+--------------------+\n",
      "|   tconst|titleType|        primaryTitle|       originalTitle|isAdult|startYear|endYear|runtimeMinutes|              genres|\n",
      "+---------+---------+--------------------+--------------------+-------+---------+-------+--------------+--------------------+\n",
      "|tt0000009|    movie|          Miss Jerry|          Miss Jerry|      0|     1894|     \\N|            45|             Romance|\n",
      "|tt0000147|    movie|The Corbett-Fitzs...|The Corbett-Fitzs...|      0|     1897|     \\N|            20|Documentary,News,...|\n",
      "|tt0000335|    movie|Soldiers of the C...|Soldiers of the C...|      0|     1900|     \\N|            \\N|     Biography,Drama|\n",
      "|tt0000502|    movie|            Bohemios|            Bohemios|      0|     1905|     \\N|           100|                  \\N|\n",
      "|tt0000574|    movie|The Story of the ...|The Story of the ...|      0|     1906|     \\N|            70|Biography,Crime,D...|\n",
      "|tt0000615|    movie|  Robbery Under Arms|  Robbery Under Arms|      0|     1907|     \\N|            \\N|               Drama|\n",
      "|tt0000630|    movie|              Hamlet|              Amleto|      0|     1908|     \\N|            \\N|               Drama|\n",
      "|tt0000675|    movie|         Don Quijote|         Don Quijote|      0|     1908|     \\N|            \\N|               Drama|\n",
      "|tt0000676|    movie|Don Álvaro o la f...|Don Álvaro o la f...|      0|     1908|     \\N|            \\N|               Drama|\n",
      "|tt0000679|    movie|The Fairylogue an...|The Fairylogue an...|      0|     1908|     \\N|           120|   Adventure,Fantasy|\n",
      "+---------+---------+--------------------+--------------------+-------+---------+-------+--------------+--------------------+\n",
      "only showing top 10 rows\n",
      "\n"
     ]
    }
   ],
   "source": [
    "movies =  \"\"\" SELECT *\n",
    "              FROM FilmTitle\n",
    "              WHERE titleType = 'movie'\n",
    "         \"\"\"\n",
    "movies = spark.sql(movies)\n",
    "movies.show(10)"
   ]
  },
  {
   "cell_type": "markdown",
   "id": "16ab5215",
   "metadata": {},
   "source": [
    "Finally, we create the baskets joining the \"Job\" and \"FilmTitle\" tables considering only the actors, actresses and movies. Then we group by the ID of actors and actresses (tconst) and we list the title of the films in which they played under the 'ncosnt' column."
   ]
  },
  {
   "cell_type": "code",
   "execution_count": 4,
   "id": "97857c6f",
   "metadata": {
    "execution": {
     "iopub.execute_input": "2021-07-06T16:27:37.156316Z",
     "iopub.status.busy": "2021-07-06T16:27:37.155989Z",
     "iopub.status.idle": "2021-07-06T16:29:32.179152Z",
     "shell.execute_reply": "2021-07-06T16:29:32.178139Z",
     "shell.execute_reply.started": "2021-07-06T16:27:37.156287Z"
    }
   },
   "outputs": [
    {
     "name": "stdout",
     "output_type": "stream",
     "text": [
      "+---------+--------------------+\n",
      "|   tconst|              nconst|\n",
      "+---------+--------------------+\n",
      "|tt0002591|[nm0029806, nm050...|\n",
      "|tt0003689|[nm0910564, nm052...|\n",
      "|tt0004272|[nm0368875, nm009...|\n",
      "|tt0004336|[nm0268437, nm081...|\n",
      "|tt0005209|[nm0593671, nm039...|\n",
      "+---------+--------------------+\n",
      "only showing top 5 rows\n",
      "\n"
     ]
    }
   ],
   "source": [
    "B =  \"\"\"  SELECT Job.tconst, Job.nconst\n",
    "          FROM Job LEFT JOIN FilmTitle ON Job.tconst = FilmTitle.tconst\n",
    "          WHERE (Job.category == 'actor' OR Job.category == 'actress') AND FilmTitle.titleType == 'movie'\n",
    "\"\"\"\n",
    "a = spark.sql(B)\n",
    "baskets = a.groupBy('tconst').agg(collect_set('nconst').alias('nconst'))\n",
    "baskets.createOrReplaceTempView('baskets')\n",
    "baskets.show(5)"
   ]
  },
  {
   "cell_type": "markdown",
   "id": "d9ee6134",
   "metadata": {},
   "source": [
    "Here we create a Resilient Distributed Dataset"
   ]
  },
  {
   "cell_type": "code",
   "execution_count": 7,
   "id": "d6fa6fd0",
   "metadata": {
    "execution": {
     "iopub.execute_input": "2021-07-06T16:29:40.380385Z",
     "iopub.status.busy": "2021-07-06T16:29:40.380054Z",
     "iopub.status.idle": "2021-07-06T16:29:55.975981Z",
     "shell.execute_reply": "2021-07-06T16:29:55.975166Z",
     "shell.execute_reply.started": "2021-07-06T16:29:40.380357Z"
    }
   },
   "outputs": [
    {
     "name": "stdout",
     "output_type": "stream",
     "text": [
      "[['nm0029806', 'nm0509573'], ['nm0910564', 'nm0527801', 'nm0399988', 'nm0101071', 'nm0694718', 'nm0728289', 'nm0585503'], ['nm0368875', 'nm0092665', 'nm0492302', 'nm0445507', 'nm0776747', 'nm0383278', 'nm0192062', 'nm0285643', 'nm0793189']]\n"
     ]
    }
   ],
   "source": [
    "act_bask = baskets.select('nconst').rdd.flatMap(list)\n",
    "print(act_bask.collect()[:3])"
   ]
  },
  {
   "cell_type": "markdown",
   "id": "502ca616",
   "metadata": {},
   "source": [
    "## The A-Priori Algorithm"
   ]
  },
  {
   "cell_type": "markdown",
   "id": "563ba031",
   "metadata": {},
   "source": [
    "We initialize a threshold value after which the pairs of actors and actresses are considered frequent using a fraction (0.03%) of the number of baskets "
   ]
  },
  {
   "cell_type": "code",
   "execution_count": 8,
   "id": "4bb328e9",
   "metadata": {
    "execution": {
     "iopub.execute_input": "2021-07-06T16:30:01.834829Z",
     "iopub.status.busy": "2021-07-06T16:30:01.834450Z",
     "iopub.status.idle": "2021-07-06T16:30:04.140157Z",
     "shell.execute_reply": "2021-07-06T16:30:04.139147Z",
     "shell.execute_reply.started": "2021-07-06T16:30:01.834798Z"
    }
   },
   "outputs": [
    {
     "name": "stdout",
     "output_type": "stream",
     "text": [
      "393656 118.09679999999999\n"
     ]
    }
   ],
   "source": [
    "count = act_bask.count()\n",
    "threshold = count*0.0003\n",
    "print(count, threshold)"
   ]
  },
  {
   "cell_type": "markdown",
   "id": "75099948",
   "metadata": {},
   "source": [
    "Exploiting the functions \"map\", \"reduceByKey\" and \"filter\" of Spark (https://spark.apache.org/docs/latest/rdd-programming-guide.html) we create the A-Priori algorithm: this function takes as input an RDD and a threshold (previously defined); in the following we describe in details the code:\n",
    "- singleton: through .flatMap we create a list, subsequently .map maps the item creating a tuple with the ID of the actor/actress and a counter (number of film in which he/her partecipated), then .reduceByKey, using actor/actress as key, sum their values up and finally .filter check if the counter of the previuos tuple is greater or equal than the threshold.\n",
    "- freq_act: with .map we extrapolate from 'singleton' only the ID of the frequent actors/actresses\n",
    "- pairs_of_freq_act = using .toLocalIterator we find all the possible pairs within the frequent_act\n",
    "- table_of_pairs: through .flatMap we create a list and we add to it each item in pairs_of_freq_act that is a subset of a basket, then with .reduceByKey we sum up the actors/actresses using them as keys and finally with .filter we filter out all the items that have the second component (item[1], i.e. the counter) greater than the threshold."
   ]
  },
  {
   "cell_type": "code",
   "execution_count": 9,
   "id": "a3def86b",
   "metadata": {
    "execution": {
     "iopub.execute_input": "2021-07-06T16:30:06.968337Z",
     "iopub.status.busy": "2021-07-06T16:30:06.968006Z",
     "iopub.status.idle": "2021-07-06T16:30:06.974782Z",
     "shell.execute_reply": "2021-07-06T16:30:06.973705Z",
     "shell.execute_reply.started": "2021-07-06T16:30:06.968309Z"
    }
   },
   "outputs": [],
   "source": [
    "def apriori (rdd, threshold):\n",
    "  \n",
    "  singleton = rdd.flatMap(list).map(lambda item: (item , 1)).reduceByKey(lambda actor1, actor2: actor1+actor2).filter(lambda item: item[1] >= threshold ) \n",
    "\n",
    "  freq_act = singleton.map(lambda item : (item[0])) # all the pair of frequent items \n",
    "\n",
    "  pairs_of_freq_act = list(itertools.combinations(freq_act.toLocalIterator(),2)) # finding all the possible pairs\n",
    "  \n",
    "  table_of_pairs = rdd.flatMap(lambda x : [(tuple(item), 1) for item in pairs_of_freq_act if set(list(item)).issubset(set(x))]).cache() \\\n",
    "                  .reduceByKey(lambda actor1, actor2: actor1+actor2) \\\n",
    "                  .filter(lambda item: item[1] >= threshold)\n",
    "\n",
    "  return (table_of_pairs)"
   ]
  },
  {
   "cell_type": "markdown",
   "id": "27d9806a",
   "metadata": {},
   "source": [
    "We run the A-Priori algorithm on on the enitre dataset and then we put the results into a dataframe in order to show tham in a pretty way "
   ]
  },
  {
   "cell_type": "code",
   "execution_count": 10,
   "id": "5091079f",
   "metadata": {
    "execution": {
     "iopub.execute_input": "2021-07-06T16:30:10.902711Z",
     "iopub.status.busy": "2021-07-06T16:30:10.902339Z",
     "iopub.status.idle": "2021-07-06T17:08:54.763831Z",
     "shell.execute_reply": "2021-07-06T17:08:54.762943Z",
     "shell.execute_reply.started": "2021-07-06T16:30:10.902679Z"
    }
   },
   "outputs": [
    {
     "name": "stdout",
     "output_type": "stream",
     "text": [
      "+-----------------------------+----------------+\n",
      "|Pairs of actors and actresses|Number of movies|\n",
      "+-----------------------------+----------------+\n",
      "|         {nm0623427, nm000...|             237|\n",
      "|         {nm0006982, nm061...|             122|\n",
      "|         {nm0006982, nm041...|             162|\n",
      "|         {nm0046850, nm000...|             169|\n",
      "|         {nm2082516, nm064...|             147|\n",
      "|         {nm2373718, nm064...|             126|\n",
      "+-----------------------------+----------------+\n",
      "\n"
     ]
    }
   ],
   "source": [
    "AprioriResults = apriori(act_bask, threshold)\n",
    "result = spark.createDataFrame(AprioriResults).toDF(\"Pairs of actors and actresses\", \"Number of movies\")\n",
    "result.show()"
   ]
  },
  {
   "cell_type": "markdown",
   "id": "8df64a37",
   "metadata": {},
   "source": [
    "Now we calculate the time necessary for running the algorithm on the entire dataset"
   ]
  },
  {
   "cell_type": "code",
   "execution_count": 16,
   "id": "0b361393",
   "metadata": {
    "execution": {
     "iopub.execute_input": "2021-07-06T17:11:23.847421Z",
     "iopub.status.busy": "2021-07-06T17:11:23.847081Z",
     "iopub.status.idle": "2021-07-06T17:11:55.049965Z",
     "shell.execute_reply": "2021-07-06T17:11:55.049180Z",
     "shell.execute_reply.started": "2021-07-06T17:11:23.847391Z"
    }
   },
   "outputs": [
    {
     "name": "stdout",
     "output_type": "stream",
     "text": [
      "31.198248863220215\n"
     ]
    }
   ],
   "source": [
    "startTime = time.time()\n",
    "apriori(act_bask, threshold)\n",
    "APrioriTime = time.time()-startTime\n",
    "print(time.time()-startTime)"
   ]
  },
  {
   "cell_type": "markdown",
   "id": "0481790f",
   "metadata": {},
   "source": [
    "## FP Growth Algorithm"
   ]
  },
  {
   "cell_type": "markdown",
   "id": "583276d4",
   "metadata": {},
   "source": [
    "Using the library of FPGrowth we launch it and we calculate the running time"
   ]
  },
  {
   "cell_type": "code",
   "execution_count": 11,
   "id": "bbc3329c",
   "metadata": {
    "execution": {
     "iopub.execute_input": "2021-07-06T17:09:28.228715Z",
     "iopub.status.busy": "2021-07-06T17:09:28.228384Z",
     "iopub.status.idle": "2021-07-06T17:09:47.312045Z",
     "shell.execute_reply": "2021-07-06T17:09:47.311102Z",
     "shell.execute_reply.started": "2021-07-06T17:09:28.228687Z"
    }
   },
   "outputs": [
    {
     "name": "stdout",
     "output_type": "stream",
     "text": [
      "18.56655979156494\n"
     ]
    }
   ],
   "source": [
    "from pyspark.ml.fpm import FPGrowth\n",
    "startTime = time.time()\n",
    "fp = FPGrowth(itemsCol = \"nconst\", minSupport = 0.0003)\n",
    "startTime = time.time()\n",
    "FPGrowth_model = fp.fit(baskets)\n",
    "FPGrowthTime = time.time()- startTime\n",
    "print(time.time()- startTime)"
   ]
  },
  {
   "cell_type": "markdown",
   "id": "a7b1660c",
   "metadata": {},
   "source": [
    "We display the 10 most frequent items"
   ]
  },
  {
   "cell_type": "code",
   "execution_count": 12,
   "id": "4476c0a6",
   "metadata": {
    "execution": {
     "iopub.execute_input": "2021-07-06T17:10:30.294932Z",
     "iopub.status.busy": "2021-07-06T17:10:30.294570Z",
     "iopub.status.idle": "2021-07-06T17:10:33.874854Z",
     "shell.execute_reply": "2021-07-06T17:10:33.874129Z",
     "shell.execute_reply.started": "2021-07-06T17:10:30.294898Z"
    }
   },
   "outputs": [
    {
     "name": "stdout",
     "output_type": "stream",
     "text": [
      "+-----------+----+\n",
      "|      items|freq|\n",
      "+-----------+----+\n",
      "|[nm1388202]| 153|\n",
      "|[nm0430646]| 120|\n",
      "|[nm0103977]| 798|\n",
      "|[nm0006982]| 585|\n",
      "|[nm0436922]| 152|\n",
      "|[nm0408381]| 120|\n",
      "|[nm0648803]| 565|\n",
      "|[nm0405977]| 152|\n",
      "|[nm0576495]| 120|\n",
      "|[nm0579663]| 120|\n",
      "+-----------+----+\n",
      "only showing top 10 rows\n",
      "\n"
     ]
    }
   ],
   "source": [
    "FPGrowth_model.freqItemsets.show(10)"
   ]
  },
  {
   "cell_type": "code",
   "execution_count": 13,
   "id": "6c88ba77",
   "metadata": {
    "execution": {
     "iopub.execute_input": "2021-07-06T17:10:37.929986Z",
     "iopub.status.busy": "2021-07-06T17:10:37.929614Z",
     "iopub.status.idle": "2021-07-06T17:10:37.939753Z",
     "shell.execute_reply": "2021-07-06T17:10:37.939043Z",
     "shell.execute_reply.started": "2021-07-06T17:10:37.929952Z"
    }
   },
   "outputs": [],
   "source": [
    "FPGrowth_model= FPGrowth_model.freqItemsets\n",
    "FPGrowth_model.createOrReplaceTempView(\"FPGrowth_model\")"
   ]
  },
  {
   "cell_type": "code",
   "execution_count": 14,
   "id": "62a9dc86",
   "metadata": {
    "execution": {
     "iopub.execute_input": "2021-07-06T17:10:40.927926Z",
     "iopub.status.busy": "2021-07-06T17:10:40.927407Z",
     "iopub.status.idle": "2021-07-06T17:10:41.761378Z",
     "shell.execute_reply": "2021-07-06T17:10:41.760542Z",
     "shell.execute_reply.started": "2021-07-06T17:10:40.927894Z"
    }
   },
   "outputs": [
    {
     "name": "stdout",
     "output_type": "stream",
     "text": [
      "+--------------------+----+\n",
      "|               items|freq|\n",
      "+--------------------+----+\n",
      "|[nm0623427, nm000...| 237|\n",
      "|[nm0046850, nm000...| 169|\n",
      "|[nm0419653, nm000...| 162|\n",
      "|[nm2082516, nm064...| 147|\n",
      "|[nm2373718, nm064...| 126|\n",
      "|[nm0619779, nm000...| 122|\n",
      "+--------------------+----+\n",
      "\n"
     ]
    }
   ],
   "source": [
    "q = \"\"\" SELECT *\n",
    "        FROM FPGrowth_model \n",
    "        WHERE size (items) >= 2\n",
    "        ORDER BY freq DESC\n",
    "        \"\"\"\n",
    "spark.sql(q).show(10)"
   ]
  },
  {
   "cell_type": "markdown",
   "id": "3a4bee60",
   "metadata": {},
   "source": [
    "## Running time comparisons between different algorithms "
   ]
  },
  {
   "cell_type": "markdown",
   "id": "29d3e3ae",
   "metadata": {},
   "source": [
    "A-Priori vs FP Growth given the entire dataset and the same threshold (0.0003)"
   ]
  },
  {
   "cell_type": "code",
   "execution_count": null,
   "id": "32ec6e94",
   "metadata": {},
   "outputs": [],
   "source": [
    "df = pd.DataFrame({'Type of algorithm':['APrioriTime', 'FPGrowthTime'], 'Time':[APrioriTime,FPGrowthTime]})\n",
    "barplot = df.plot.bar(x='Type of algorithm', y='Time', rot = 0, color= 'g')"
   ]
  },
  {
   "cell_type": "markdown",
   "id": "0ba328a6",
   "metadata": {},
   "source": [
    "A-Priori vs FP Growth given the entire dataset but different threshold values"
   ]
  },
  {
   "cell_type": "code",
   "execution_count": 15,
   "id": "f14a493b",
   "metadata": {
    "execution": {
     "iopub.execute_input": "2021-07-06T17:11:08.020645Z",
     "iopub.status.busy": "2021-07-06T17:11:08.020318Z",
     "iopub.status.idle": "2021-07-06T17:11:08.279628Z",
     "shell.execute_reply": "2021-07-06T17:11:08.278967Z",
     "shell.execute_reply.started": "2021-07-06T17:11:08.020618Z"
    }
   },
   "outputs": [
    {
     "data": {
      "image/png": "[encoded data removed]",
      "text/plain": [
       "<Figure size 432x288 with 1 Axes>"
      ]
     },
     "metadata": {
      "needs_background": "light"
     },
     "output_type": "display_data"
    }
   ],
   "source": [
    "%matplotlib inline\n",
    "x = [0.0001, 0.0002, 0.0003, 0.0004, 0.0005, 0.0006, 0.0007, 0.0008, 0.0009, 0.001]\n",
    "y = [168.30824089050293,53.98464870452881,53.07268238067627,50.30917692184448,50.021188735961914,49.92609214782715,49.81086301803589,49.619282960891724,\n",
    "     49.52366256713867,50.62602353096008]\n",
    "plt.plot(x, y, label='A-Priori')\n",
    "\n",
    "a = [0.0001, 0.0002, 0.0003, 0.0004, 0.0005, 0.0006, 0.0007, 0.0008, 0.0009, 0.001]\n",
    "b = [76.92273926734924,75.54928350448608,76.14759802818298,76.14860796928406,75.51765608787537,76.26800203323364,76.12276768684387,75.29264044761658,\n",
    "     74.58063530921936,74.95723581314087]\n",
    "plt.plot(a, b, label='FP Growth')\n",
    "\n",
    "plt.xlabel(\"Threshold size\")\n",
    "plt.ylabel(\"Seconds\")\n",
    "\n",
    "c = plt.legend()\n",
    "plt.savefig('A-Priori vs FP.pdf')\n",
    "plt.show()"
   ]
  }
 ],
 "metadata": {
  "environment": {
   "name": "common-cpu.m73",
   "type": "gcloud",
   "uri": "gcr.io/deeplearning-platform-release/base-cpu:m73"
  },
  "kernelspec": {
   "display_name": "Python 3",
   "language": "python",
   "name": "python3"
  },
  "language_info": {
   "codemirror_mode": {
    "name": "ipython",
    "version": 3
   },
   "file_extension": ".py",
   "mimetype": "text/x-python",
   "name": "python",
   "nbconvert_exporter": "python",
   "pygments_lexer": "ipython3",
   "version": "3.8.8"
  },
  "record_timing": true
 },
 "nbformat": 4,
 "nbformat_minor": 5
}
